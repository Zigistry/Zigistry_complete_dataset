{
  "nbformat": 4,
  "nbformat_minor": 0,
  "metadata": {
    "colab": {
      "provenance": [],
      "collapsed_sections": [
        "Ik9exAoQCSlZ",
        "uNopgLUvCY_D"
      ],
      "authorship_tag": "ABX9TyNon1MpHVHRU52mHapSPYNV",
      "include_colab_link": true
    },
    "kernelspec": {
      "name": "python3",
      "display_name": "Python 3"
    },
    "language_info": {
      "name": "python"
    }
  },
  "cells": [
    {
      "cell_type": "markdown",
      "metadata": {
        "id": "view-in-github",
        "colab_type": "text"
      },
      "source": [
        "<a href=\"https://colab.research.google.com/github/Zigistry/Zigistry_complete_dataset/blob/main/Zigistry_complete_dataset.ipynb\" target=\"_parent\"><img src=\"https://colab.research.google.com/assets/colab-badge.svg\" alt=\"Open In Colab\"/></a>"
      ]
    },
    {
      "cell_type": "markdown",
      "source": [
        "## Pre-requisite\n",
        "This is required to do before creating the dataset."
      ],
      "metadata": {
        "id": "Ik9exAoQCSlZ"
      }
    },
    {
      "cell_type": "markdown",
      "source": [
        "For making the dataset, we first need to install the datasets module."
      ],
      "metadata": {
        "id": "DeuS4QYcdGiV"
      }
    },
    {
      "cell_type": "code",
      "source": [
        "!pip install datasets"
      ],
      "metadata": {
        "id": "og_XpeUac37v",
        "collapsed": true
      },
      "execution_count": null,
      "outputs": []
    },
    {
      "cell_type": "markdown",
      "source": [
        "Then we need to git clone the repository of Zigistry."
      ],
      "metadata": {
        "id": "nxw8IBSodh9R"
      }
    },
    {
      "cell_type": "code",
      "source": [
        "!git clone https://github.com/zigistry/zigistry.git --depth=1"
      ],
      "metadata": {
        "id": "ZMdYqB1BdnTN",
        "collapsed": true
      },
      "execution_count": null,
      "outputs": []
    },
    {
      "cell_type": "markdown",
      "source": [
        "# Create dataset for Zigistry:"
      ],
      "metadata": {
        "id": "uNopgLUvCY_D"
      }
    },
    {
      "cell_type": "markdown",
      "source": [
        "Then we have to open the processed data and combine all the programs and packages in a list:"
      ],
      "metadata": {
        "id": "U159YXCXdvRS"
      }
    },
    {
      "cell_type": "code",
      "source": [
        "from datasets import Dataset\n",
        "import json\n",
        "\n",
        "complete_json_data = []"
      ],
      "metadata": {
        "id": "zG2yeBcCd5A1"
      },
      "execution_count": 4,
      "outputs": []
    },
    {
      "cell_type": "code",
      "source": [
        "files_list = [\n",
        "    \"/content/zigistry/database/main.json\",\n",
        "    \"/content/zigistry/database/gui.json\",\n",
        "    \"/content/zigistry/database/web.json\",\n",
        "    \"/content/zigistry/database/games.json\",\n",
        "    \"/content/zigistry/database/programs.json\"\n",
        "]\n",
        "\n",
        "\n",
        "for i in files_list:\n",
        "  with open(i) as fileManager:\n",
        "    data = json.loads(fileManager.read())\n",
        "    complete_json_data.extend(data)"
      ],
      "metadata": {
        "id": "qNJ6wKbCWHct"
      },
      "execution_count": 5,
      "outputs": []
    },
    {
      "cell_type": "markdown",
      "source": [
        "Here is the combined database:"
      ],
      "metadata": {
        "id": "tCqsn82begu_"
      }
    },
    {
      "cell_type": "code",
      "execution_count": null,
      "metadata": {
        "id": "2kHOQd9Zcyp5",
        "collapsed": true
      },
      "outputs": [],
      "source": [
        "print(json.dumps(complete_json_data, indent=4))"
      ]
    },
    {
      "cell_type": "markdown",
      "source": [
        "Now we can convert the database into a well defined dataset using the dataset module."
      ],
      "metadata": {
        "id": "sSvuu4P24kpv"
      }
    },
    {
      "cell_type": "code",
      "source": [
        "from datasets import Dataset\n",
        "\n",
        "dataset = Dataset.from_list(complete_json_data)"
      ],
      "metadata": {
        "id": "j-HIq1XX4kEd"
      },
      "execution_count": 7,
      "outputs": []
    },
    {
      "cell_type": "markdown",
      "source": [
        "Here is the type of rows and columns of the dataset or in other words, the \"skeleton\" of the dataset."
      ],
      "metadata": {
        "id": "YAe2HsGK4rKG"
      }
    },
    {
      "cell_type": "code",
      "source": [
        "print(dataset)"
      ],
      "metadata": {
        "colab": {
          "base_uri": "https://localhost:8080/"
        },
        "id": "ppSYJDdY4uyK",
        "outputId": "6b9d0bfb-acc1-42db-9dc0-1247241d5972"
      },
      "execution_count": 8,
      "outputs": [
        {
          "output_type": "stream",
          "name": "stdout",
          "text": [
            "Dataset({\n",
            "    features: ['server', 'name', 'full_name', 'description', 'watchers_count', 'forks_count', 'license', 'default_branch', 'has_build_zig', 'has_build_zig_zon', 'fork', 'open_issues', 'stargazers_count', 'tags_url', 'updated_at', 'created_at', 'size', 'topics', 'avatar_url'],\n",
            "    num_rows: 3414\n",
            "})\n"
          ]
        }
      ]
    },
    {
      "cell_type": "markdown",
      "source": [
        "Now that we have the dataset, lets push the dataset to hugging face."
      ],
      "metadata": {
        "id": "IzSDvN3Zepar"
      }
    },
    {
      "cell_type": "code",
      "source": [
        "from google.colab import userdata\n",
        "\n",
        "dataset.push_to_hub(\"zigistry/zigistry-complete-dataset\", token=userdata.get('token'))"
      ],
      "metadata": {
        "id": "RUNG_Vr7TIZc",
        "collapsed": true
      },
      "execution_count": null,
      "outputs": []
    },
    {
      "cell_type": "markdown",
      "source": [
        "# Convert the dataset to CSV\n",
        "We need this for further processing the data."
      ],
      "metadata": {
        "id": "Tb-f4ebEOx8S"
      }
    },
    {
      "cell_type": "markdown",
      "source": [
        "First we need to convert the data to pandas for better representation:"
      ],
      "metadata": {
        "id": "_urRpt8ZSTWd"
      }
    },
    {
      "cell_type": "code",
      "source": [
        "pandas_data = dataset.to_pandas()"
      ],
      "metadata": {
        "id": "kBjoRJVUO2MI"
      },
      "execution_count": 10,
      "outputs": []
    },
    {
      "cell_type": "markdown",
      "source": [
        "Then we can convert the dataset to csv and write it to a file:"
      ],
      "metadata": {
        "id": "BKWtXYCsSXhI"
      }
    },
    {
      "cell_type": "code",
      "source": [
        "csv_data = \"id\"+pandas_data.to_csv()\n",
        "\n",
        "with open(\"zigistry-complete-dataset.csv\", \"w\") as fileManager:\n",
        "  fileManager.write(csv_data)"
      ],
      "metadata": {
        "id": "wuegULi8SeI1"
      },
      "execution_count": 11,
      "outputs": []
    }
  ]
}